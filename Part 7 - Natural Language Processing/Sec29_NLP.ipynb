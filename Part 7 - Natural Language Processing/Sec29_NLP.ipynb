{
 "cells": [
  {
   "cell_type": "code",
   "execution_count": 1,
   "metadata": {
    "collapsed": true
   },
   "outputs": [],
   "source": [
    "import numpy as np\n",
    "import pandas as pd\n",
    "import matplotlib.pyplot as plt\n",
    "%matplotlib inline"
   ]
  },
  {
   "cell_type": "code",
   "execution_count": 2,
   "metadata": {
    "collapsed": true
   },
   "outputs": [],
   "source": [
    "dataset=pd.read_csv('Restaurant_Reviews.tsv',delimiter='\\t', quoting=3)  # This is a tsv file. If you download original file as csv, then the file confuses a comma to separate and the comma in the original text for punctuation.\n",
    "#quoting =3 to ignore \"double quotes\" (this may or may not cause prob's in the future analysis)"
   ]
  },
  {
   "cell_type": "code",
   "execution_count": 23,
   "metadata": {
    "collapsed": true
   },
   "outputs": [],
   "source": [
    "# cleaning the texts\n",
    "import re\n",
    "import nltk\n",
    "# nltk.download('stopwords')\n",
    "from nltk.corpus import stopwords\n",
    "from nltk.stem.porter import PorterStemmer"
   ]
  },
  {
   "cell_type": "code",
   "execution_count": 40,
   "metadata": {
    "collapsed": true
   },
   "outputs": [],
   "source": [
    "corpus=[]\n",
    "for i in range(1000):\n",
    "    review=re.sub(pattern='[^a-zA-Z]', repl=' ', string=dataset['Review'][i]) \n",
    "    review= review.lower()\n",
    "    review = review.split()    # review is now string. You need to change into list of words    \n",
    "    ps=PorterStemmer()\n",
    "    review=[ps.stem(word) for word in review if not word in set(stopwords.words('english'))] \n",
    "    review= ' '.join(review, )\n",
    "    corpus.append(review)"
   ]
  },
  {
   "cell_type": "code",
   "execution_count": 42,
   "metadata": {},
   "outputs": [
    {
     "name": "stdout",
     "output_type": "stream",
     "text": [
      "Wow... Loved this place.\n",
      "wow love place\n"
     ]
    }
   ],
   "source": [
    "print(dataset['Review'][0])\n",
    "# Step1: remove punctuations ('Wow... Loved this place.' --> 'Wow    Loved this place ')\n",
    "review=re.sub(pattern='[^a-zA-Z]', repl=' ', string=dataset['Review'][0]) # ```pattern=[^things we dont want to remove]``` (the alphabets)\n",
    "\n",
    "# Step2: make everything into lowercase ('Wow    Loved this place '  --> 'wow    loved this place ')\n",
    "review= review.lower()\n",
    "\n",
    "# Step3: remove non-significant words (a, the, is, ...)   (wow    loved this place '   --> ['wow', 'loved', 'place'] )\n",
    "review = review.split()    # review is now string. You need to change into list of words\n",
    "review = [word for word in review if not word in set(stopwords.words('english'))]  # set function to fast exsecution\n",
    "\n",
    "# Step4: stemming (keep only the root of the word with conjugation)    ( ['wow', 'loved', 'place'] --> ['wow', 'love', 'place'])\n",
    "ps=PorterStemmer()\n",
    "review=[ps.stem(word) for word in review]   # [ps.stem(word) for word in review if not word in set(stopwords.words('english'))] to combine Step 3 and 4\n",
    "\n",
    "# Step5: joining the list back to string (['wow', 'love', 'place'] --> 'wow love place' )\n",
    "review= ' '.join(review, )\n",
    "\n",
    "print(review)"
   ]
  },
  {
   "cell_type": "code",
   "execution_count": 59,
   "metadata": {
    "collapsed": true
   },
   "outputs": [],
   "source": [
    "# create bag of words model\n",
    "from sklearn.feature_extraction.text import CountVectorizer\n",
    "cv= CountVectorizer(max_features=1500)  # limit the nr of col's[words] to remove irrelevant words\n",
    "X = cv.fit_transform(corpus).toarray()  # X is a matrix of features (sparse matrix), ## toarray to convert a matrix into an array\n",
    "y=dataset.iloc[:,1].values"
   ]
  },
  {
   "cell_type": "code",
   "execution_count": 61,
   "metadata": {
    "collapsed": true
   },
   "outputs": [],
   "source": [
    "# run classification: naive bayes, dicision tree and random forest are the common methods for NLP\n",
    "from sklearn.model_selection import train_test_split\n",
    "X_train, X_test, y_train, y_test= train_test_split(X,y, test_size=0.20, random_state=0)"
   ]
  },
  {
   "cell_type": "code",
   "execution_count": 63,
   "metadata": {},
   "outputs": [
    {
     "data": {
      "text/plain": [
       "GaussianNB(priors=None)"
      ]
     },
     "execution_count": 63,
     "metadata": {},
     "output_type": "execute_result"
    }
   ],
   "source": [
    "from sklearn.naive_bayes import GaussianNB\n",
    "classifier= GaussianNB()\n",
    "classifier.fit(X_train, y_train)"
   ]
  },
  {
   "cell_type": "code",
   "execution_count": 64,
   "metadata": {
    "collapsed": true
   },
   "outputs": [],
   "source": [
    "y_pred=classifier.predict(X_test)"
   ]
  },
  {
   "cell_type": "code",
   "execution_count": 66,
   "metadata": {},
   "outputs": [
    {
     "data": {
      "text/plain": [
       "array([[55, 42],\n",
       "       [12, 91]])"
      ]
     },
     "execution_count": 66,
     "metadata": {},
     "output_type": "execute_result"
    }
   ],
   "source": [
    "from sklearn.metrics import confusion_matrix\n",
    "cm= confusion_matrix(y_test, y_pred); cm"
   ]
  },
  {
   "cell_type": "code",
   "execution_count": 80,
   "metadata": {
    "scrolled": true
   },
   "outputs": [
    {
     "data": {
      "text/plain": [
       "['absolutley',\n",
       " 'accid',\n",
       " 'accommod',\n",
       " 'accomod',\n",
       " 'accordingli',\n",
       " 'account',\n",
       " 'ach',\n",
       " 'acknowledg',\n",
       " 'across']"
      ]
     },
     "execution_count": 80,
     "metadata": {},
     "output_type": "execute_result"
    }
   ],
   "source": [
    "cv.get_feature_names()[1:10]  # first ten words in bow"
   ]
  },
  {
   "cell_type": "code",
   "execution_count": null,
   "metadata": {
    "collapsed": true
   },
   "outputs": [],
   "source": []
  }
 ],
 "metadata": {
  "kernelspec": {
   "display_name": "Python 3",
   "language": "python",
   "name": "python3"
  },
  "language_info": {
   "codemirror_mode": {
    "name": "ipython",
    "version": 3
   },
   "file_extension": ".py",
   "mimetype": "text/x-python",
   "name": "python",
   "nbconvert_exporter": "python",
   "pygments_lexer": "ipython3",
   "version": "3.6.0"
  }
 },
 "nbformat": 4,
 "nbformat_minor": 2
}
