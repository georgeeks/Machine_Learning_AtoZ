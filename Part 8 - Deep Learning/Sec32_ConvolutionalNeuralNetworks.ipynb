{
 "cells": [
  {
   "cell_type": "markdown",
   "metadata": {},
   "source": [
    "_Part 1_  \n",
    "** Step 1: ** Convolution   \n",
    "** Step 2: ** Max Pooling   \n",
    "** Step 3: ** Flattening   \n",
    "** Step 4: ** Full connection  "
   ]
  },
  {
   "cell_type": "code",
   "execution_count": 1,
   "metadata": {
    "scrolled": true
   },
   "outputs": [
    {
     "name": "stderr",
     "output_type": "stream",
     "text": [
      "Using TensorFlow backend.\n"
     ]
    }
   ],
   "source": [
    "# Importing the Keras libraries and packages\n",
    "from keras.models import Sequential\n",
    "from keras.layers import Conv2D\n",
    "from keras.layers import MaxPooling2D\n",
    "from keras.layers import Flatten\n",
    "from keras.layers import Dense"
   ]
  },
  {
   "cell_type": "code",
   "execution_count": 2,
   "metadata": {
    "collapsed": true
   },
   "outputs": [],
   "source": [
    "from timeit import default_timer as timer\n",
    "start = timer()"
   ]
  },
  {
   "cell_type": "code",
   "execution_count": 3,
   "metadata": {
    "collapsed": true
   },
   "outputs": [],
   "source": [
    "# Initialiseing the CNN\n",
    "classifier= Sequential()"
   ]
  },
  {
   "cell_type": "code",
   "execution_count": 4,
   "metadata": {
    "collapsed": true
   },
   "outputs": [],
   "source": [
    "# Step 1: convolution \n",
    "classifier.add(Conv2D(filters=32,kernel_size=(3,3), # 32 image detectors of 3x3 mat\n",
    "                      activation='relu', input_shape=(64,64,3)))  # 64*64 pixel points of 3-dim (colour)"
   ]
  },
  {
   "cell_type": "code",
   "execution_count": 5,
   "metadata": {
    "collapsed": true
   },
   "outputs": [],
   "source": [
    "# Step2: Max Pooling \n",
    "classifier.add(MaxPooling2D(pool_size=(2,2))) # 2x2 is the conventional choise"
   ]
  },
  {
   "cell_type": "code",
   "execution_count": 6,
   "metadata": {
    "collapsed": true
   },
   "outputs": [],
   "source": [
    "# Step 3: Flattening\n",
    "classifier.add(Flatten())"
   ]
  },
  {
   "cell_type": "code",
   "execution_count": 7,
   "metadata": {
    "collapsed": true
   },
   "outputs": [],
   "source": [
    "# Step 4: Full connection\n",
    "classifier.add(Dense(units=128,activation='relu'))\n",
    "classifier.add(Dense(units=1, activation='sigmoid'))"
   ]
  },
  {
   "cell_type": "code",
   "execution_count": 8,
   "metadata": {
    "collapsed": true
   },
   "outputs": [],
   "source": [
    "# Compiling the CNN\n",
    "classifier.compile(optimizer='adam', loss='binary_crossentropy', metrics=['accuracy'])"
   ]
  },
  {
   "cell_type": "markdown",
   "metadata": {},
   "source": [
    "_Part 2_: [Image augumentation](https://keras.io/ja/preprocessing/image/):   \n",
    "allow us to enrich [augument] training set without adding new images"
   ]
  },
  {
   "cell_type": "code",
   "execution_count": 9,
   "metadata": {
    "collapsed": true
   },
   "outputs": [],
   "source": [
    "from keras.preprocessing.image import ImageDataGenerator\n",
    "\n",
    "train_datagen = ImageDataGenerator(\n",
    "        rescale=1./255, # make all the pixel values to be scaled bw 0 n 1\n",
    "        shear_range=0.2,\n",
    "        zoom_range=0.2,\n",
    "        horizontal_flip=True)"
   ]
  },
  {
   "cell_type": "code",
   "execution_count": 10,
   "metadata": {
    "collapsed": true
   },
   "outputs": [],
   "source": [
    "test_datagen = ImageDataGenerator(rescale=1./255)"
   ]
  },
  {
   "cell_type": "code",
   "execution_count": 11,
   "metadata": {},
   "outputs": [
    {
     "name": "stdout",
     "output_type": "stream",
     "text": [
      "Found 8000 images belonging to 2 classes.\n"
     ]
    }
   ],
   "source": [
    "training_set = train_datagen.flow_from_directory('dataset/training_set', # from which directory you get the image from (the path after working direcotry)\n",
    "                                                                        target_size=(64, 64), # the size of your images that is expected in your cnn model. Same as `input_shape` above \n",
    "                                                                        batch_size=32, \n",
    "                                                                        class_mode='binary') # cat and dog"
   ]
  },
  {
   "cell_type": "markdown",
   "metadata": {},
   "source": [
    "Rk: \"Found 8000 images belonging to 2 classes.\" due to the training set structure"
   ]
  },
  {
   "cell_type": "code",
   "execution_count": 12,
   "metadata": {},
   "outputs": [
    {
     "name": "stdout",
     "output_type": "stream",
     "text": [
      "Found 2000 images belonging to 2 classes.\n"
     ]
    }
   ],
   "source": [
    "test_set = test_datagen.flow_from_directory('dataset/test_set',\n",
    "                                                                    target_size=(64,64),\n",
    "                                                                    batch_size=32,\n",
    "                                                                    class_mode='binary')"
   ]
  },
  {
   "cell_type": "code",
   "execution_count": 13,
   "metadata": {
    "scrolled": true
   },
   "outputs": [
    {
     "name": "stdout",
     "output_type": "stream",
     "text": [
      "Epoch 1/25\n",
      "250/250 [==============================] - 150s 601ms/step - loss: 0.6830 - acc: 0.6190 - val_loss: 0.5968 - val_acc: 0.6851\n",
      "Epoch 2/25\n",
      "250/250 [==============================] - 143s 574ms/step - loss: 0.5857 - acc: 0.6892 - val_loss: 0.5835 - val_acc: 0.6985\n",
      "Epoch 3/25\n",
      "250/250 [==============================] - 156s 624ms/step - loss: 0.5545 - acc: 0.7141 - val_loss: 0.5341 - val_acc: 0.7331\n",
      "Epoch 4/25\n",
      "250/250 [==============================] - 150s 602ms/step - loss: 0.5404 - acc: 0.7243 - val_loss: 0.5286 - val_acc: 0.7437\n",
      "Epoch 5/25\n",
      "250/250 [==============================] - 131s 525ms/step - loss: 0.5209 - acc: 0.7399 - val_loss: 0.5037 - val_acc: 0.7551\n",
      "Epoch 6/25\n",
      "250/250 [==============================] - 146s 583ms/step - loss: 0.5003 - acc: 0.7506 - val_loss: 0.5155 - val_acc: 0.7563\n",
      "Epoch 7/25\n",
      "250/250 [==============================] - 152s 607ms/step - loss: 0.4931 - acc: 0.7559 - val_loss: 0.4934 - val_acc: 0.7736\n",
      "Epoch 8/25\n",
      "250/250 [==============================] - 149s 594ms/step - loss: 0.4749 - acc: 0.7751 - val_loss: 0.4853 - val_acc: 0.7728\n",
      "Epoch 9/25\n",
      "250/250 [==============================] - 164s 657ms/step - loss: 0.4590 - acc: 0.7808 - val_loss: 0.5012 - val_acc: 0.7704\n",
      "Epoch 10/25\n",
      "250/250 [==============================] - 147s 589ms/step - loss: 0.4516 - acc: 0.7819 - val_loss: 0.4894 - val_acc: 0.7775\n",
      "Epoch 11/25\n",
      "250/250 [==============================] - 160s 639ms/step - loss: 0.4410 - acc: 0.7909 - val_loss: 0.4851 - val_acc: 0.7807\n",
      "Epoch 12/25\n",
      "250/250 [==============================] - 158s 632ms/step - loss: 0.4429 - acc: 0.7926 - val_loss: 0.4732 - val_acc: 0.7932\n",
      "Epoch 13/25\n",
      "250/250 [==============================] - 156s 624ms/step - loss: 0.4277 - acc: 0.7973 - val_loss: 0.4925 - val_acc: 0.7783\n",
      "Epoch 14/25\n",
      "250/250 [==============================] - 157s 629ms/step - loss: 0.4242 - acc: 0.8029 - val_loss: 0.4910 - val_acc: 0.7822\n",
      "Epoch 15/25\n",
      "250/250 [==============================] - 159s 637ms/step - loss: 0.4059 - acc: 0.8104 - val_loss: 0.4974 - val_acc: 0.7763\n",
      "Epoch 16/25\n",
      "250/250 [==============================] - 148s 592ms/step - loss: 0.4045 - acc: 0.8140 - val_loss: 0.4801 - val_acc: 0.7873\n",
      "Epoch 17/25\n",
      "250/250 [==============================] - 145s 579ms/step - loss: 0.3912 - acc: 0.8158 - val_loss: 0.4734 - val_acc: 0.7807\n",
      "Epoch 18/25\n",
      "250/250 [==============================] - 145s 580ms/step - loss: 0.3813 - acc: 0.8316 - val_loss: 0.5123 - val_acc: 0.7913\n",
      "Epoch 19/25\n",
      "250/250 [==============================] - 168s 671ms/step - loss: 0.3712 - acc: 0.8309 - val_loss: 0.4905 - val_acc: 0.7866\n",
      "Epoch 20/25\n",
      "250/250 [==============================] - 154s 616ms/step - loss: 0.3607 - acc: 0.8395 - val_loss: 0.5105 - val_acc: 0.7893\n",
      "Epoch 21/25\n",
      "250/250 [==============================] - 144s 576ms/step - loss: 0.3498 - acc: 0.8439 - val_loss: 0.4991 - val_acc: 0.7881\n",
      "Epoch 22/25\n",
      "250/250 [==============================] - 144s 578ms/step - loss: 0.3496 - acc: 0.8397 - val_loss: 0.5107 - val_acc: 0.7756\n",
      "Epoch 23/25\n",
      "250/250 [==============================] - 140s 559ms/step - loss: 0.3418 - acc: 0.8508 - val_loss: 0.5167 - val_acc: 0.7826\n",
      "Epoch 24/25\n",
      "250/250 [==============================] - 138s 550ms/step - loss: 0.3245 - acc: 0.8530 - val_loss: 0.5013 - val_acc: 0.7944\n",
      "Epoch 25/25\n",
      "250/250 [==============================] - 142s 568ms/step - loss: 0.3189 - acc: 0.8560 - val_loss: 0.5226 - val_acc: 0.7987\n",
      "Elapsed time in minutes\n",
      "62.7\n"
     ]
    },
    {
     "data": {
      "text/plain": [
       "0"
      ]
     },
     "execution_count": 13,
     "metadata": {},
     "output_type": "execute_result"
    }
   ],
   "source": [
    "classifier.fit_generator(training_set,\n",
    "                            steps_per_epoch=250,\n",
    "                            epochs=25,\n",
    "                            validation_data=test_set,\n",
    "                            validation_steps=80)\n",
    "\n",
    "# elapsed time in minutes\n",
    "end = timer()\n",
    "print(\"Elapsed time in minutes\")\n",
    "print(0.1*round((end - start)/6))\n",
    "# end of work message\n",
    "import os\n",
    "os.system('say \"your program has finished\"')"
   ]
  },
  {
   "cell_type": "code",
   "execution_count": 14,
   "metadata": {},
   "outputs": [
    {
     "name": "stdout",
     "output_type": "stream",
     "text": [
      "Found 8000 images belonging to 2 classes.\n",
      "Found 2000 images belonging to 2 classes.\n",
      "Epoch 1/25\n",
      "250/250 [==============================] - 150s 601ms/step - loss: 0.6602 - acc: 0.5960 - val_loss: 0.6486 - val_acc: 0.6230\n",
      "Epoch 2/25\n",
      "250/250 [==============================] - 144s 577ms/step - loss: 0.5772 - acc: 0.6970 - val_loss: 0.5374 - val_acc: 0.7453\n",
      "Epoch 3/25\n",
      "250/250 [==============================] - 144s 577ms/step - loss: 0.5373 - acc: 0.7299 - val_loss: 0.5517 - val_acc: 0.7252\n",
      "Epoch 4/25\n",
      "250/250 [==============================] - 144s 576ms/step - loss: 0.5099 - acc: 0.7461 - val_loss: 0.5023 - val_acc: 0.7645\n",
      "Epoch 5/25\n",
      "250/250 [==============================] - 143s 570ms/step - loss: 0.4834 - acc: 0.7632 - val_loss: 0.4999 - val_acc: 0.7563\n",
      "Epoch 6/25\n",
      "250/250 [==============================] - 143s 572ms/step - loss: 0.4790 - acc: 0.7674 - val_loss: 0.4710 - val_acc: 0.7791\n",
      "Epoch 7/25\n",
      "250/250 [==============================] - 145s 578ms/step - loss: 0.4641 - acc: 0.7796 - val_loss: 0.4555 - val_acc: 0.7936\n",
      "Epoch 8/25\n",
      "250/250 [==============================] - 145s 580ms/step - loss: 0.4433 - acc: 0.7916 - val_loss: 0.4807 - val_acc: 0.7767\n",
      "Epoch 9/25\n",
      "250/250 [==============================] - 145s 579ms/step - loss: 0.4415 - acc: 0.7893 - val_loss: 0.4351 - val_acc: 0.8070\n",
      "Epoch 10/25\n",
      "250/250 [==============================] - 146s 584ms/step - loss: 0.4235 - acc: 0.8049 - val_loss: 0.4383 - val_acc: 0.7948\n",
      "Epoch 11/25\n",
      "250/250 [==============================] - 144s 577ms/step - loss: 0.4060 - acc: 0.8084 - val_loss: 0.4606 - val_acc: 0.7952\n",
      "Epoch 12/25\n",
      "250/250 [==============================] - 145s 578ms/step - loss: 0.4017 - acc: 0.8100 - val_loss: 0.4403 - val_acc: 0.8011\n",
      "Epoch 13/25\n",
      "250/250 [==============================] - 142s 569ms/step - loss: 0.3952 - acc: 0.8191 - val_loss: 0.4244 - val_acc: 0.8094\n",
      "Epoch 14/25\n",
      "250/250 [==============================] - 146s 585ms/step - loss: 0.3845 - acc: 0.8219 - val_loss: 0.4380 - val_acc: 0.8090\n",
      "Epoch 15/25\n",
      "250/250 [==============================] - 145s 580ms/step - loss: 0.3858 - acc: 0.8274 - val_loss: 0.4504 - val_acc: 0.8050\n",
      "Epoch 16/25\n",
      "250/250 [==============================] - 145s 579ms/step - loss: 0.3646 - acc: 0.8326 - val_loss: 0.4077 - val_acc: 0.8121\n",
      "Epoch 17/25\n",
      "250/250 [==============================] - 145s 580ms/step - loss: 0.3599 - acc: 0.8345 - val_loss: 0.4160 - val_acc: 0.8121\n",
      "Epoch 18/25\n",
      "250/250 [==============================] - 146s 584ms/step - loss: 0.3484 - acc: 0.8426 - val_loss: 0.4370 - val_acc: 0.8188\n",
      "Epoch 19/25\n",
      "250/250 [==============================] - 146s 582ms/step - loss: 0.3423 - acc: 0.8494 - val_loss: 0.4229 - val_acc: 0.8133\n",
      "Epoch 20/25\n",
      "250/250 [==============================] - 145s 578ms/step - loss: 0.3287 - acc: 0.8521 - val_loss: 0.4231 - val_acc: 0.8208\n",
      "Epoch 21/25\n",
      "250/250 [==============================] - 144s 577ms/step - loss: 0.3261 - acc: 0.8566 - val_loss: 0.4487 - val_acc: 0.8129\n",
      "Epoch 22/25\n",
      "250/250 [==============================] - 144s 575ms/step - loss: 0.3061 - acc: 0.8656 - val_loss: 0.4419 - val_acc: 0.8160\n",
      "Epoch 23/25\n",
      "250/250 [==============================] - 147s 587ms/step - loss: 0.3210 - acc: 0.8608 - val_loss: 0.4462 - val_acc: 0.8090\n",
      "Epoch 24/25\n",
      "250/250 [==============================] - 147s 589ms/step - loss: 0.3041 - acc: 0.8682 - val_loss: 0.4946 - val_acc: 0.8113\n",
      "Epoch 25/25\n",
      "250/250 [==============================] - 144s 577ms/step - loss: 0.2939 - acc: 0.8706 - val_loss: 0.4368 - val_acc: 0.8113\n",
      "Elapsed time in minutes\n",
      "60.400000000000006\n"
     ]
    },
    {
     "data": {
      "text/plain": [
       "0"
      ]
     },
     "execution_count": 14,
     "metadata": {},
     "output_type": "execute_result"
    }
   ],
   "source": [
    "# Go deep'er' NN to improve the model\n",
    "# 1. Add another convolutionary layer : We take this (bw Step 2 and step3)\n",
    "# 2. Add another fully connected layer\n",
    "\n",
    "from timeit import default_timer as timer\n",
    "start = timer()\n",
    "\n",
    "# Part 1\n",
    "# Initialiseing the CNN\n",
    "classifier= Sequential()\n",
    "\n",
    "# Step 1: convolution \n",
    "classifier.add(Conv2D(filters=32,kernel_size=(3,3), # 32 image detectors of 3x3 mat\n",
    "                      activation='relu', input_shape=(64,64,3)))  # 64*64 pixel points of 3-dim (colour)\n",
    "\n",
    "# Step2: Max Pooling \n",
    "classifier.add(MaxPooling2D(pool_size=(2,2))) # 2x2 is the conventional choise\n",
    "\n",
    "############## Adding a second convolutional layer  #############\n",
    "classifier.add(Conv2D(32, (3, 3), activation=\"relu\"))\n",
    "classifier.add(MaxPooling2D(pool_size = (2, 2)))\n",
    "########################################################\n",
    "\n",
    "# Step 3: Flattening\n",
    "classifier.add(Flatten())\n",
    "\n",
    "# Step 4: Full connection\n",
    "classifier.add(Dense(units=128,activation='relu'))\n",
    "classifier.add(Dense(units=1, activation='sigmoid'))\n",
    "\n",
    "# Compiling the CNN\n",
    "classifier.compile(optimizer='adam', loss='binary_crossentropy', metrics=['accuracy'])\n",
    "\n",
    "# Part2\n",
    "from keras.preprocessing.image import ImageDataGenerator\n",
    "\n",
    "train_datagen = ImageDataGenerator(\n",
    "        rescale=1./255, # make all the pixel values to be scaled bw 0 n 1\n",
    "        shear_range=0.2,\n",
    "        zoom_range=0.2,\n",
    "        horizontal_flip=True)\n",
    "\n",
    "test_datagen = ImageDataGenerator(rescale=1./255)\n",
    "\n",
    "training_set = train_datagen.flow_from_directory('dataset/training_set', # from which directory you get the image from (the path after working direcotry)\n",
    "                                                                        target_size=(64, 64), # the size of your images that is expected in your cnn model. Same as `input_shape` above \n",
    "                                                                        batch_size=32, \n",
    "                                                                        class_mode='binary') # cat and dog\n",
    "\n",
    "test_set = test_datagen.flow_from_directory('dataset/test_set',\n",
    "                                                                    target_size=(64,64),\n",
    "                                                                    batch_size=32,\n",
    "                                                                    class_mode='binary')\n",
    "\n",
    "classifier.fit_generator(training_set,\n",
    "                            steps_per_epoch=250,\n",
    "                            epochs=25,\n",
    "                            validation_data=test_set,\n",
    "                            validation_steps=80)\n",
    "\n",
    "# elapsed time in minutes\n",
    "end = timer()\n",
    "print(\"Elapsed time in minutes\")\n",
    "print(0.1*round((end - start)/6))\n",
    "# end of work message\n",
    "import os\n",
    "os.system('say \"your program has finished\"')"
   ]
  },
  {
   "cell_type": "code",
   "execution_count": null,
   "metadata": {
    "collapsed": true
   },
   "outputs": [],
   "source": []
  }
 ],
 "metadata": {
  "kernelspec": {
   "display_name": "Python 3",
   "language": "python",
   "name": "python3"
  },
  "language_info": {
   "codemirror_mode": {
    "name": "ipython",
    "version": 3
   },
   "file_extension": ".py",
   "mimetype": "text/x-python",
   "name": "python",
   "nbconvert_exporter": "python",
   "pygments_lexer": "ipython3",
   "version": "3.6.0"
  }
 },
 "nbformat": 4,
 "nbformat_minor": 2
}
