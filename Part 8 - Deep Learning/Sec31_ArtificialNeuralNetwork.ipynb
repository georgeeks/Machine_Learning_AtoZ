{
 "cells": [
  {
   "cell_type": "code",
   "execution_count": null,
   "metadata": {
    "collapsed": true
   },
   "outputs": [],
   "source": [
    "# Installing Theano\n",
    "# pip install --upgrade --no-deps git+git://github.com/Theano/Theano.git\n",
    "\n",
    "# Installing Tensorflow\n",
    "# Install Tensorflow from the website: https://www.tensorflow.org/versions/r0.12/get_started/os_setup.html\n",
    "\n",
    "# Installing Keras\n",
    "# pip install --upgrade keras"
   ]
  },
  {
   "cell_type": "code",
   "execution_count": 3,
   "metadata": {
    "collapsed": true
   },
   "outputs": [],
   "source": [
    "import numpy as np\n",
    "import matplotlib.pyplot as plt\n",
    "import pandas as pd\n",
    "% matplotlib inline"
   ]
  },
  {
   "cell_type": "code",
   "execution_count": 4,
   "metadata": {
    "collapsed": true
   },
   "outputs": [],
   "source": [
    "##### Part 1: data proprocessing #####\n",
    "dataset = pd.read_csv('Churn_Modelling.csv')\n",
    "X = dataset.iloc[:, 3:13].values\n",
    "y = dataset.iloc[:, 13].values"
   ]
  },
  {
   "cell_type": "code",
   "execution_count": 5,
   "metadata": {
    "collapsed": true
   },
   "outputs": [],
   "source": [
    "from sklearn.preprocessing import LabelEncoder, OneHotEncoder\n",
    "labelencoder_X1= LabelEncoder()\n",
    "X[:,1] = labelencoder_X1.fit_transform(X[:,1]) # replace country name with 0,1, and 2\n",
    "X[:,2] = labelencoder_X1.fit_transform(X[:,2]) # replace gender name with 0 and 1\n",
    "onehotencoder= OneHotEncoder(categorical_features=[1]) # create dummy variable only for 1st index(country[this has three categories]), other columns are numerical or 0/1\n",
    "X= onehotencoder.fit_transform(X).toarray()\n",
    "X= X[:,1:]  # drop the first columns to avoind dummy variable trap\n"
   ]
  },
  {
   "cell_type": "code",
   "execution_count": 6,
   "metadata": {
    "collapsed": true
   },
   "outputs": [],
   "source": [
    "from sklearn.model_selection import train_test_split\n",
    "X_train, X_test, y_train, y_test = train_test_split(X,y,test_size=0.2, random_state=0)"
   ]
  },
  {
   "cell_type": "code",
   "execution_count": 7,
   "metadata": {
    "collapsed": true
   },
   "outputs": [],
   "source": [
    "from sklearn.preprocessing import StandardScaler\n",
    "sc= StandardScaler()\n",
    "X_train= sc.fit_transform(X_train)\n",
    "X_test= sc.transform(X_test)"
   ]
  },
  {
   "cell_type": "markdown",
   "metadata": {},
   "source": [
    "Training the ANN with Stochastic Gradient Descent\n",
    "* Step1: Randomly initialise the weights to small numbers close to zero\n",
    "* Step2: Inupt the first observation of your dataset in the first input layer, each feature in one unput node\n",
    "* Step3: Forward-Propagation: from left to right, the nerons are activated in a way that the impact of each neuron's activation is limited by the weights. Propagate the activations until getting the predicted result y.\n",
    "* Step4: Compare the predicted result to the actual result. Measure the generated error.\n",
    "* Step5: Back-Propagation: from right to left, the errors is back-propagated. Update the weights according to thow much they are responsible for the error. The learning rate decides by how much we update the weights.\n",
    "* Step6: Repeat Steps one to five and update the weights after each observation (Reinforcement Learning) Or: Repeat Steps one to five but update the weights only after a batch of observatoins (Batch Learning)\n",
    "* Step7: When the whole training set passed through the ANN, that makes an epoch. Redo more epochs"
   ]
  },
  {
   "cell_type": "code",
   "execution_count": 10,
   "metadata": {
    "collapsed": true
   },
   "outputs": [],
   "source": [
    "##### Part 2 #####\n",
    "import keras\n",
    "from keras.models import Sequential # a module required to initialise ANN\n",
    "from keras.layers import Dense# a module required to build a layers of ANN"
   ]
  },
  {
   "cell_type": "code",
   "execution_count": 19,
   "metadata": {
    "scrolled": true
   },
   "outputs": [
    {
     "name": "stdout",
     "output_type": "stream",
     "text": [
      "Epoch 1/100\n",
      "8000/8000 [==============================] - 4s 518us/step - loss: 0.4795 - acc: 0.7971\n",
      "Epoch 2/100\n",
      "8000/8000 [==============================] - 3s 372us/step - loss: 0.4046 - acc: 0.8116\n",
      "Epoch 3/100\n",
      "8000/8000 [==============================] - 3s 372us/step - loss: 0.3761 - acc: 0.8417\n",
      "Epoch 4/100\n",
      "8000/8000 [==============================] - 3s 379us/step - loss: 0.3593 - acc: 0.8566\n",
      "Epoch 5/100\n",
      "8000/8000 [==============================] - 3s 365us/step - loss: 0.3521 - acc: 0.8589\n",
      "Epoch 6/100\n",
      "8000/8000 [==============================] - 3s 355us/step - loss: 0.3490 - acc: 0.8589\n",
      "Epoch 7/100\n",
      "8000/8000 [==============================] - 3s 363us/step - loss: 0.3469 - acc: 0.8606\n",
      "Epoch 8/100\n",
      "8000/8000 [==============================] - 3s 362us/step - loss: 0.3458 - acc: 0.8605\n",
      "Epoch 9/100\n",
      "8000/8000 [==============================] - 3s 354us/step - loss: 0.3448 - acc: 0.8590\n",
      "Epoch 10/100\n",
      "8000/8000 [==============================] - 3s 356us/step - loss: 0.3437 - acc: 0.8601\n",
      "Epoch 11/100\n",
      "8000/8000 [==============================] - 3s 364us/step - loss: 0.3434 - acc: 0.8575\n",
      "Epoch 12/100\n",
      "8000/8000 [==============================] - 3s 363us/step - loss: 0.3425 - acc: 0.8609\n",
      "Epoch 13/100\n",
      "8000/8000 [==============================] - 3s 362us/step - loss: 0.3417 - acc: 0.8601\n",
      "Epoch 14/100\n",
      "8000/8000 [==============================] - 3s 364us/step - loss: 0.3414 - acc: 0.8612\n",
      "Epoch 15/100\n",
      "8000/8000 [==============================] - 3s 360us/step - loss: 0.3419 - acc: 0.8604\n",
      "Epoch 16/100\n",
      "8000/8000 [==============================] - 3s 396us/step - loss: 0.3410 - acc: 0.8619\n",
      "Epoch 17/100\n",
      "8000/8000 [==============================] - 3s 363us/step - loss: 0.3408 - acc: 0.8616\n",
      "Epoch 18/100\n",
      "8000/8000 [==============================] - 3s 352us/step - loss: 0.3409 - acc: 0.8614\n",
      "Epoch 19/100\n",
      "8000/8000 [==============================] - 3s 366us/step - loss: 0.3411 - acc: 0.8616\n",
      "Epoch 20/100\n",
      "8000/8000 [==============================] - 3s 376us/step - loss: 0.3400 - acc: 0.8621\n",
      "Epoch 21/100\n",
      "8000/8000 [==============================] - 3s 358us/step - loss: 0.3398 - acc: 0.8612\n",
      "Epoch 22/100\n",
      "8000/8000 [==============================] - 3s 354us/step - loss: 0.3398 - acc: 0.8644\n",
      "Epoch 23/100\n",
      "8000/8000 [==============================] - 3s 386us/step - loss: 0.3390 - acc: 0.8626\n",
      "Epoch 24/100\n",
      "8000/8000 [==============================] - 3s 362us/step - loss: 0.3387 - acc: 0.8630\n",
      "Epoch 25/100\n",
      "8000/8000 [==============================] - 3s 369us/step - loss: 0.3397 - acc: 0.8602\n",
      "Epoch 26/100\n",
      "8000/8000 [==============================] - 3s 362us/step - loss: 0.3391 - acc: 0.8629\n",
      "Epoch 27/100\n",
      "8000/8000 [==============================] - 3s 364us/step - loss: 0.3391 - acc: 0.8611\n",
      "Epoch 28/100\n",
      "8000/8000 [==============================] - 3s 377us/step - loss: 0.3386 - acc: 0.8605\n",
      "Epoch 29/100\n",
      "8000/8000 [==============================] - 3s 361us/step - loss: 0.3382 - acc: 0.8612\n",
      "Epoch 30/100\n",
      "8000/8000 [==============================] - 3s 357us/step - loss: 0.3374 - acc: 0.8617\n",
      "Epoch 31/100\n",
      "8000/8000 [==============================] - 3s 363us/step - loss: 0.3388 - acc: 0.8617\n",
      "Epoch 32/100\n",
      "8000/8000 [==============================] - 3s 363us/step - loss: 0.3380 - acc: 0.8626\n",
      "Epoch 33/100\n",
      "8000/8000 [==============================] - 3s 358us/step - loss: 0.3374 - acc: 0.8634\n",
      "Epoch 34/100\n",
      "8000/8000 [==============================] - 3s 368us/step - loss: 0.3378 - acc: 0.8629\n",
      "Epoch 35/100\n",
      "8000/8000 [==============================] - 3s 402us/step - loss: 0.3376 - acc: 0.8631\n",
      "Epoch 36/100\n",
      "8000/8000 [==============================] - 3s 382us/step - loss: 0.3381 - acc: 0.8629\n",
      "Epoch 37/100\n",
      "8000/8000 [==============================] - 3s 361us/step - loss: 0.3376 - acc: 0.8612\n",
      "Epoch 38/100\n",
      "8000/8000 [==============================] - 3s 393us/step - loss: 0.3374 - acc: 0.8631\n",
      "Epoch 39/100\n",
      "8000/8000 [==============================] - 3s 359us/step - loss: 0.3371 - acc: 0.8640\n",
      "Epoch 40/100\n",
      "8000/8000 [==============================] - 3s 357us/step - loss: 0.3375 - acc: 0.8635\n",
      "Epoch 41/100\n",
      "8000/8000 [==============================] - 3s 358us/step - loss: 0.3375 - acc: 0.8622\n",
      "Epoch 42/100\n",
      "8000/8000 [==============================] - 3s 366us/step - loss: 0.3372 - acc: 0.8619\n",
      "Epoch 43/100\n",
      "8000/8000 [==============================] - 3s 353us/step - loss: 0.3370 - acc: 0.8625\n",
      "Epoch 44/100\n",
      "8000/8000 [==============================] - 3s 377us/step - loss: 0.3368 - acc: 0.8641\n",
      "Epoch 45/100\n",
      "8000/8000 [==============================] - 3s 379us/step - loss: 0.3368 - acc: 0.8637\n",
      "Epoch 46/100\n",
      "8000/8000 [==============================] - 3s 360us/step - loss: 0.3363 - acc: 0.8637\n",
      "Epoch 47/100\n",
      "8000/8000 [==============================] - 3s 365us/step - loss: 0.3373 - acc: 0.8637\n",
      "Epoch 48/100\n",
      "8000/8000 [==============================] - 3s 364us/step - loss: 0.3371 - acc: 0.8636\n",
      "Epoch 49/100\n",
      "8000/8000 [==============================] - 3s 366us/step - loss: 0.3370 - acc: 0.8642\n",
      "Epoch 50/100\n",
      "8000/8000 [==============================] - 3s 351us/step - loss: 0.3364 - acc: 0.8640\n",
      "Epoch 51/100\n",
      "8000/8000 [==============================] - 3s 370us/step - loss: 0.3362 - acc: 0.8630\n",
      "Epoch 52/100\n",
      "8000/8000 [==============================] - 3s 373us/step - loss: 0.3362 - acc: 0.8626\n",
      "Epoch 53/100\n",
      "8000/8000 [==============================] - 3s 383us/step - loss: 0.3366 - acc: 0.8627\n",
      "Epoch 54/100\n",
      "8000/8000 [==============================] - 3s 364us/step - loss: 0.3360 - acc: 0.8626\n",
      "Epoch 55/100\n",
      "8000/8000 [==============================] - 3s 364us/step - loss: 0.3366 - acc: 0.8627\n",
      "Epoch 56/100\n",
      "8000/8000 [==============================] - 3s 355us/step - loss: 0.3361 - acc: 0.8651\n",
      "Epoch 57/100\n",
      "8000/8000 [==============================] - 3s 363us/step - loss: 0.3366 - acc: 0.8626\n",
      "Epoch 58/100\n",
      "8000/8000 [==============================] - 3s 354us/step - loss: 0.3366 - acc: 0.8637\n",
      "Epoch 59/100\n",
      "8000/8000 [==============================] - 3s 355us/step - loss: 0.3367 - acc: 0.8652\n",
      "Epoch 60/100\n",
      "8000/8000 [==============================] - 3s 361us/step - loss: 0.3365 - acc: 0.8632\n",
      "Epoch 61/100\n",
      "8000/8000 [==============================] - 3s 353us/step - loss: 0.3362 - acc: 0.8631\n",
      "Epoch 62/100\n",
      "8000/8000 [==============================] - 3s 363us/step - loss: 0.3363 - acc: 0.8640\n",
      "Epoch 63/100\n",
      "8000/8000 [==============================] - 3s 353us/step - loss: 0.3359 - acc: 0.8630\n",
      "Epoch 64/100\n",
      "8000/8000 [==============================] - 3s 345us/step - loss: 0.3363 - acc: 0.8621\n",
      "Epoch 65/100\n",
      "8000/8000 [==============================] - 3s 359us/step - loss: 0.3363 - acc: 0.8625\n",
      "Epoch 66/100\n",
      "8000/8000 [==============================] - 3s 364us/step - loss: 0.3359 - acc: 0.8625\n",
      "Epoch 67/100\n",
      "8000/8000 [==============================] - 3s 361us/step - loss: 0.3360 - acc: 0.8630\n",
      "Epoch 68/100\n",
      "8000/8000 [==============================] - 3s 363us/step - loss: 0.3362 - acc: 0.8640\n",
      "Epoch 69/100\n",
      "8000/8000 [==============================] - 3s 361us/step - loss: 0.3360 - acc: 0.8651\n",
      "Epoch 70/100\n",
      "8000/8000 [==============================] - 3s 373us/step - loss: 0.3364 - acc: 0.8629\n",
      "Epoch 71/100\n",
      "8000/8000 [==============================] - 3s 357us/step - loss: 0.3360 - acc: 0.8639\n",
      "Epoch 72/100\n",
      "8000/8000 [==============================] - 3s 354us/step - loss: 0.3362 - acc: 0.8635\n",
      "Epoch 73/100\n",
      "8000/8000 [==============================] - 3s 360us/step - loss: 0.3365 - acc: 0.8621\n",
      "Epoch 74/100\n",
      "8000/8000 [==============================] - 3s 356us/step - loss: 0.3357 - acc: 0.8625\n",
      "Epoch 75/100\n",
      "8000/8000 [==============================] - 3s 359us/step - loss: 0.3363 - acc: 0.8627\n",
      "Epoch 76/100\n",
      "8000/8000 [==============================] - 3s 365us/step - loss: 0.3361 - acc: 0.8635\n",
      "Epoch 77/100\n",
      "8000/8000 [==============================] - 3s 366us/step - loss: 0.3361 - acc: 0.8631\n",
      "Epoch 78/100\n",
      "8000/8000 [==============================] - 3s 361us/step - loss: 0.3360 - acc: 0.8635\n",
      "Epoch 79/100\n",
      "8000/8000 [==============================] - 3s 366us/step - loss: 0.3359 - acc: 0.8627\n",
      "Epoch 80/100\n",
      "8000/8000 [==============================] - 3s 370us/step - loss: 0.3361 - acc: 0.8635\n",
      "Epoch 81/100\n",
      "8000/8000 [==============================] - 3s 413us/step - loss: 0.3362 - acc: 0.8631\n",
      "Epoch 82/100\n",
      "8000/8000 [==============================] - 3s 358us/step - loss: 0.3361 - acc: 0.8627\n",
      "Epoch 83/100\n",
      "8000/8000 [==============================] - 3s 358us/step - loss: 0.3362 - acc: 0.8635\n",
      "Epoch 84/100\n",
      "8000/8000 [==============================] - 3s 355us/step - loss: 0.3357 - acc: 0.8632\n",
      "Epoch 85/100\n",
      "8000/8000 [==============================] - 3s 359us/step - loss: 0.3366 - acc: 0.8626\n",
      "Epoch 86/100\n",
      "8000/8000 [==============================] - 3s 361us/step - loss: 0.3352 - acc: 0.8632\n",
      "Epoch 87/100\n",
      "8000/8000 [==============================] - 3s 376us/step - loss: 0.3361 - acc: 0.8632\n",
      "Epoch 88/100\n",
      "8000/8000 [==============================] - 3s 355us/step - loss: 0.3362 - acc: 0.8624\n",
      "Epoch 89/100\n",
      "8000/8000 [==============================] - 3s 364us/step - loss: 0.3357 - acc: 0.8625\n",
      "Epoch 90/100\n",
      "8000/8000 [==============================] - 3s 360us/step - loss: 0.3359 - acc: 0.8624\n",
      "Epoch 91/100\n",
      "8000/8000 [==============================] - 3s 356us/step - loss: 0.3352 - acc: 0.8637\n",
      "Epoch 92/100\n",
      "8000/8000 [==============================] - 3s 356us/step - loss: 0.3362 - acc: 0.8631\n",
      "Epoch 93/100\n",
      "8000/8000 [==============================] - 3s 354us/step - loss: 0.3358 - acc: 0.8645\n",
      "Epoch 94/100\n",
      "8000/8000 [==============================] - 3s 361us/step - loss: 0.3360 - acc: 0.8616\n",
      "Epoch 95/100\n",
      "8000/8000 [==============================] - 3s 388us/step - loss: 0.3357 - acc: 0.8640\n",
      "Epoch 96/100\n",
      "8000/8000 [==============================] - 3s 361us/step - loss: 0.3359 - acc: 0.8637\n",
      "Epoch 97/100\n",
      "8000/8000 [==============================] - 3s 357us/step - loss: 0.3367 - acc: 0.8617\n",
      "Epoch 98/100\n",
      "8000/8000 [==============================] - 3s 353us/step - loss: 0.3361 - acc: 0.8640\n",
      "Epoch 99/100\n",
      "8000/8000 [==============================] - 3s 371us/step - loss: 0.3356 - acc: 0.8644\n",
      "Epoch 100/100\n",
      "8000/8000 [==============================] - 3s 356us/step - loss: 0.3359 - acc: 0.8631\n"
     ]
    },
    {
     "data": {
      "text/plain": [
       "<keras.callbacks.History at 0x11dc52e80>"
      ]
     },
     "execution_count": 19,
     "metadata": {},
     "output_type": "execute_result"
    }
   ],
   "source": [
    "classifier = Sequential()   # initialise the ANN \n",
    "classifier.add(Dense(units=6, activation='relu', kernel_initializer='uniform', input_dim=11))# Add the input layer and the first hidden layer, \n",
    "classifier.add(Dense(units=6,  activation='relu',kernel_initializer='uniform')) # Nr of nodes in the hidden layer(`units`). --> (# nodes in the input layer(`input_dim`) + # nodes in the output layer)/2   \n",
    "# Above is not formal way to choose `units` To be more precise, use parameter tuning to decide # nodes. (k-fold cross validation)[More in Ch.10]\n",
    "classifier.add(Dense(units=1,activation='sigmoid', kernel_initializer='uniform')) # The last layer. If you are dealing with the model that has more than two categories as output (e.g. three), change to `units=3` and `activation='softmax'`    \n",
    "classifier.compile(optimizer='adam', loss='binary_crossentropy', metrics=['accuracy'])   # compiling the ANN. `adam` for SGD (`loss= categorical_crossentropy` if you have more than three categories output)\n",
    "classifier.fit(X_train, y_train, batch_size=10, epochs=100)"
   ]
  },
  {
   "cell_type": "code",
   "execution_count": 22,
   "metadata": {
    "collapsed": true
   },
   "outputs": [],
   "source": [
    "##### Part 3: Making predictions and evaluationg the model\n",
    "y_pred= classifier.predict(X_test)\n",
    "y_pred=(y_pred>0.5)  # if y_pred is larger than 0.5, it returns True"
   ]
  },
  {
   "cell_type": "code",
   "execution_count": 24,
   "metadata": {},
   "outputs": [
    {
     "data": {
      "text/plain": [
       "array([[1516,   79],\n",
       "       [ 202,  203]])"
      ]
     },
     "execution_count": 24,
     "metadata": {},
     "output_type": "execute_result"
    }
   ],
   "source": [
    "from sklearn.metrics import confusion_matrix\n",
    "cm= confusion_matrix(y_test, y_pred)\n",
    "cm"
   ]
  },
  {
   "cell_type": "code",
   "execution_count": 25,
   "metadata": {},
   "outputs": [
    {
     "data": {
      "text/plain": [
       "0.8595"
      ]
     },
     "execution_count": 25,
     "metadata": {},
     "output_type": "execute_result"
    }
   ],
   "source": [
    "(1516+203)/len(y_pred)"
   ]
  },
  {
   "cell_type": "code",
   "execution_count": 28,
   "metadata": {},
   "outputs": [
    {
     "data": {
      "text/plain": [
       "[array([[-0.0685491 ,  0.01031211, -0.14524947, -0.20919263, -0.29721656,\n",
       "         -0.42603323],\n",
       "        [-0.21672751,  0.14393991,  0.07026731,  0.07186568,  0.05595284,\n",
       "         -0.05618538],\n",
       "        [ 0.04218943,  0.0706072 ,  0.05942498, -0.14893547, -0.01005835,\n",
       "          0.0018175 ],\n",
       "        [ 0.01408772,  0.0607935 ,  0.04926321, -0.0887169 ,  0.00404141,\n",
       "          0.21019055],\n",
       "        [-0.64411891, -0.65037608,  0.43671867, -0.80878967, -0.16603443,\n",
       "         -0.09495146],\n",
       "        [-0.02797636, -0.03988308,  0.06470129,  0.08364291, -0.03687204,\n",
       "         -0.00661068],\n",
       "        [ 0.08363017,  0.07128832,  0.04780043,  0.0110533 ,  0.35861143,\n",
       "          0.12057276],\n",
       "        [ 0.14312515,  0.00901983,  0.22114325,  0.20619924,  1.01369047,\n",
       "          0.77317202],\n",
       "        [ 0.02082076,  0.17052664,  0.07429139, -0.15475869, -0.05799056,\n",
       "         -0.15778933],\n",
       "        [-0.37431344, -0.08920002,  0.90303278, -0.27137077,  0.0047048 ,\n",
       "         -0.17934899],\n",
       "        [-0.00885379,  0.15442544, -0.04120588, -0.11534199, -0.03162466,\n",
       "         -0.10508678]], dtype=float32),\n",
       " array([ 0.84259337,  0.83998239,  0.6363011 ,  0.75385809, -0.70318466,\n",
       "         0.83142692], dtype=float32),\n",
       " array([[  3.08315903e-01,   1.80524185e-01,   2.64476717e-01,\n",
       "          -2.94483844e-02,   2.76055634e-01,  -6.31245971e-01],\n",
       "        [  2.95999825e-01,   3.12424362e-01,   3.83167982e-01,\n",
       "          -2.45230906e-02,   3.85316730e-01,  -3.31199288e-01],\n",
       "        [  6.55514300e-01,   6.67239249e-01,   6.10844553e-01,\n",
       "          -2.57522631e-02,   6.67393863e-01,  -2.51582086e-01],\n",
       "        [  9.44848284e-02,   1.18653417e-01,   5.34895845e-02,\n",
       "          -1.08432909e-03,   4.32442240e-02,  -8.43012810e-01],\n",
       "        [ -1.18023813e+00,  -1.20596683e+00,  -1.17142320e+00,\n",
       "          -2.44132858e-02,  -1.17657840e+00,   1.28183496e+00],\n",
       "        [  6.25526607e-01,   7.11108983e-01,   6.45683408e-01,\n",
       "          -8.04763436e-02,   6.53043091e-01,   1.51147321e-01]], dtype=float32),\n",
       " array([-0.19653566, -0.30106044, -0.23941009, -0.02783593, -0.27879167,\n",
       "         1.06693542], dtype=float32),\n",
       " array([[-0.53353488],\n",
       "        [-0.53014135],\n",
       "        [-0.52504903],\n",
       "        [-0.0279191 ],\n",
       "        [-0.51699793],\n",
       "        [ 2.47661901]], dtype=float32),\n",
       " array([ 0.48633689], dtype=float32)]"
      ]
     },
     "execution_count": 28,
     "metadata": {},
     "output_type": "execute_result"
    }
   ],
   "source": [
    "# to see which factor contributes how much (in the last epoch), \n",
    "classifier.get_weights()  # first, third and fifth elements(0,2,4) are coef matrix and second, fourth and sixth elements are biases (constants)"
   ]
  },
  {
   "cell_type": "code",
   "execution_count": null,
   "metadata": {
    "collapsed": true
   },
   "outputs": [],
   "source": []
  }
 ],
 "metadata": {
  "kernelspec": {
   "display_name": "Python 3",
   "language": "python",
   "name": "python3"
  },
  "language_info": {
   "codemirror_mode": {
    "name": "ipython",
    "version": 3
   },
   "file_extension": ".py",
   "mimetype": "text/x-python",
   "name": "python",
   "nbconvert_exporter": "python",
   "pygments_lexer": "ipython3",
   "version": "3.6.0"
  }
 },
 "nbformat": 4,
 "nbformat_minor": 2
}
