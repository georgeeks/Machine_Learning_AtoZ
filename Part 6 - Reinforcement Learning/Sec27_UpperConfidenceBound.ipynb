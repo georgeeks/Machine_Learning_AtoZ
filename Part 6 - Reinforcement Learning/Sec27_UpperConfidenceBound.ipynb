{
 "cells": [
  {
   "cell_type": "code",
   "execution_count": 3,
   "metadata": {
    "collapsed": true
   },
   "outputs": [],
   "source": [
    "import numpy as np\n",
    "import pandas as pd \n",
    "import matplotlib.pyplot as plt\n",
    "import math\n",
    "%matplotlib inline"
   ]
  },
  {
   "cell_type": "code",
   "execution_count": 4,
   "metadata": {},
   "outputs": [],
   "source": [
    "dataset=pd.read_csv('Ads_CTR_Optimisation.csv')"
   ]
  },
  {
   "cell_type": "code",
   "execution_count": 6,
   "metadata": {},
   "outputs": [],
   "source": [
    "# If ads are selected completely ramdomly \n",
    "import random\n",
    "N = 10000\n",
    "d = 10\n",
    "ads_selected = []\n",
    "total_reward = 0\n",
    "for n in range(0, N):\n",
    "    ad = random.randrange(d)\n",
    "    ads_selected.append(ad)\n",
    "    reward = dataset.values[n, ad]\n",
    "    total_reward = total_reward + reward"
   ]
  },
  {
   "cell_type": "code",
   "execution_count": 7,
   "metadata": {
    "scrolled": true
   },
   "outputs": [
    {
     "data": {
      "image/png": "[encoded data removed]",
      "text/plain": [
       "<matplotlib.figure.Figure at 0x104207b70>"
      ]
     },
     "metadata": {},
     "output_type": "display_data"
    }
   ],
   "source": [
    "# Visualising the results\n",
    "plt.hist(ads_selected)\n",
    "plt.title('Histogram of ads selections')\n",
    "plt.xlabel('Ads')\n",
    "plt.ylabel('Number of times each ad was selected')\n",
    "plt.show()"
   ]
  },
  {
   "cell_type": "markdown",
   "metadata": {},
   "source": [
    "__Step1__. At each round $n$, we consider two numbers for ead ad $i$ :   \n",
    "* $N_i(n)$ :  The number of times the ad $i$ was selected up to round $n$  \n",
    "* $R_i(n)$ : The sum of rewards of the ad $i$ up to round $n$  \n",
    "\n",
    "__Step2__. From these two numbers we compute:\n",
    "* the average reward of ad $i$ up to round $n$,  \n",
    "$$\\bar{r}_i = \\frac{R_i(n)}{N_i(n)}$$  \n",
    "* the confidence interval [$\\bar{r}_i - \\Delta_i(n),\\bar{r}_i + \\Delta_i(n) $] at round$n$ with $$\\Delta_i(n) = \\sqrt{\\frac{3}{2} \\frac{log(n)}{N_i(n)}}$$\n",
    "\n",
    "__Step3__. We select the ad $i$ that has the maximum UCB $\\bar{r}_i + \\Delta_i(n)$"
   ]
  },
  {
   "cell_type": "code",
   "execution_count": 9,
   "metadata": {
    "collapsed": true
   },
   "outputs": [],
   "source": [
    "# Step1\n",
    "N=10000  # nr of iteration\n",
    "d= 10  # variation of ads\n",
    "ads_selected = []\n",
    "numbers_of_selection= [0] * d\n",
    "sums_of_rewards= [0]*d\n",
    "total_reward=0\n",
    "\n",
    "# Step2,3 \n",
    "for n in range(0, N):\n",
    "    ad=0\n",
    "    max_upper_bound=0\n",
    "    for i in range(0,d):   # the number of ad\n",
    "        if (numbers_of_selection[i]>0):    #Number of times the ad is showns. This condition averts the division by zero when n is small. For small n trials, \n",
    "            average_rewards= sums_of_rewards[i]/numbers_of_selection[i]\n",
    "            delta_i = math.sqrt(3/2 * math.log(n+1)/numbers_of_selection[i])  # n+1 because index n (in range(0,N)) starts from zero and ends in N-1\n",
    "            upper_bound= average_rewards+delta_i\n",
    "        else:\n",
    "            upper_bound = 1e400  # 10**400, This is for first d trials. High UB to make ad i (which is not shown yet) selected\n",
    "        if upper_bound > max_upper_bound:  # note this is the selection within the same round n\n",
    "            max_upper_bound=upper_bound\n",
    "            ad= i   # The best ad. Note i+1 is the real ad number (index starts from zero)\n",
    "    ads_selected.append(ad)  # Vector of size N containing the info of ads shown\n",
    "    numbers_of_selection[ad] =numbers_of_selection[ad]+1 # number of times each ads is selected , sum(·)=10k   \n",
    "    reward= dataset.values[n,ad] # scaler\n",
    "    sums_of_rewards[ad]= sums_of_rewards[ad] +reward\n",
    "    total_reward= total_reward+ reward"
   ]
  },
  {
   "cell_type": "code",
   "execution_count": 10,
   "metadata": {
    "scrolled": true
   },
   "outputs": [
    {
     "data": {
      "image/png": "[encoded data removed]",
      "text/plain": [
       "<matplotlib.figure.Figure at 0x103c33390>"
      ]
     },
     "metadata": {},
     "output_type": "display_data"
    }
   ],
   "source": [
    "plt.hist(ads_selected)\n",
    "plt.title('Histogram of ads selections')\n",
    "plt.xlabel('Ads')\n",
    "plt.ylabel('Number of times each ad was selected')\n",
    "plt.show()"
   ]
  },
  {
   "cell_type": "code",
   "execution_count": null,
   "metadata": {
    "collapsed": true
   },
   "outputs": [],
   "source": []
  },
  {
   "cell_type": "code",
   "execution_count": null,
   "metadata": {
    "collapsed": true
   },
   "outputs": [],
   "source": []
  }
 ],
 "metadata": {
  "kernelspec": {
   "display_name": "Python 3",
   "language": "python",
   "name": "python3"
  },
  "language_info": {
   "codemirror_mode": {
    "name": "ipython",
    "version": 3
   },
   "file_extension": ".py",
   "mimetype": "text/x-python",
   "name": "python",
   "nbconvert_exporter": "python",
   "pygments_lexer": "ipython3",
   "version": "3.6.0"
  }
 },
 "nbformat": 4,
 "nbformat_minor": 2
}
