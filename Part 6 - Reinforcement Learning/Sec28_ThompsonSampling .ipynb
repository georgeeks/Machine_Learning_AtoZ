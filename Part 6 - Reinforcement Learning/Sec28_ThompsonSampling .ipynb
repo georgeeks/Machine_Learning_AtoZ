{
 "cells": [
  {
   "cell_type": "code",
   "execution_count": 3,
   "metadata": {
    "collapsed": true
   },
   "outputs": [],
   "source": [
    "import numpy as np\n",
    "import pandas as pd \n",
    "import matplotlib.pyplot as pltth\n",
    "import random\n",
    "%matplotlib inline"
   ]
  },
  {
   "cell_type": "code",
   "execution_count": 2,
   "metadata": {
    "collapsed": true
   },
   "outputs": [],
   "source": [
    "dataset=pd.read_csv('Ads_CTR_Optimisation.csv')"
   ]
  },
  {
   "cell_type": "markdown",
   "metadata": {},
   "source": [
    "__Step1__ At each round $n$, we consider two numbers for each ad $i$:\n",
    "* $N_i^1(n)$ - the unmber of times the ad $i$ got reward 1 up to round $n$\n",
    "* $N_i^0(n)$ - the number of times the ad$i$ got  reward 0 up to round $n$\n",
    "\n",
    "__Step2__ For eachad$i$, we take a random drow from the distribution below: $$\\theta_i(n) =\\beta(N_i^1(n)+1,N_i^0(n)+1) $$\n",
    "\n",
    "__Step3__ We select the ad that has the hightest $\\theta_i(n)$"
   ]
  },
  {
   "cell_type": "code",
   "execution_count": 14,
   "metadata": {},
   "outputs": [],
   "source": [
    "N=10000\n",
    "d=10\n",
    "ads_selected=[]\n",
    "numbers_of_rewards_1=[0]*d  # the number of times each ad is clicked\n",
    "numbers_of_rewards_0 = [0]*d\n",
    "total_rewards=0\n",
    "\n",
    "for n in range(0,N):\n",
    "    ad=0\n",
    "    max_random=0\n",
    "    for i in range(0,d):\n",
    "        random_beta= random.betavariate(numbers_of_rewards_1[i]+1, numbers_of_rewards_0[i]+1)\n",
    "        if random_beta > max_random:\n",
    "            max_random= random_beta\n",
    "            ad=i\n",
    "    ads_selected.append(ad)\n",
    "    reward= dataset.values[n, ad]\n",
    "    total_rewards=total_rewards+reward\n",
    "    if reward==1:\n",
    "        numbers_of_rewards_1[ad]= numbers_of_rewards_1[ad]+1\n",
    "    else:\n",
    "        numbers_of_rewards_0[ad]= numbers_of_rewards_0[ad]+1"
   ]
  },
  {
   "cell_type": "code",
   "execution_count": 15,
   "metadata": {},
   "outputs": [
    {
     "data": {
      "text/plain": [
       "2615"
      ]
     },
     "execution_count": 15,
     "metadata": {},
     "output_type": "execute_result"
    }
   ],
   "source": [
    "total_rewards"
   ]
  },
  {
   "cell_type": "code",
   "execution_count": 18,
   "metadata": {},
   "outputs": [
    {
     "data": {
      "image/png": "[encoded data removed]",
      "text/plain": [
       "<matplotlib.figure.Figure at 0x1167f3400>"
      ]
     },
     "metadata": {},
     "output_type": "display_data"
    }
   ],
   "source": [
    "plt.hist(ads_selected)\n",
    "plt.title('Histogram of ads selection')\n",
    "plt.xlabel('Ads')\n",
    "plt.ylabel('nr of times selected')\n",
    "plt.show()"
   ]
  },
  {
   "cell_type": "code",
   "execution_count": null,
   "metadata": {
    "collapsed": true
   },
   "outputs": [],
   "source": []
  }
 ],
 "metadata": {
  "kernelspec": {
   "display_name": "Python 3",
   "language": "python",
   "name": "python3"
  },
  "language_info": {
   "codemirror_mode": {
    "name": "ipython",
    "version": 3
   },
   "file_extension": ".py",
   "mimetype": "text/x-python",
   "name": "python",
   "nbconvert_exporter": "python",
   "pygments_lexer": "ipython3",
   "version": "3.6.0"
  }
 },
 "nbformat": 4,
 "nbformat_minor": 2
}
